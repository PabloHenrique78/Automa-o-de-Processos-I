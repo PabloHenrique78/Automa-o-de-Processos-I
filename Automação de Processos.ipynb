{
 "cells": [
  {
   "cell_type": "markdown",
   "metadata": {},
   "source": [
    "### Importar Arquivos e Bibliotecas"
   ]
  },
  {
   "cell_type": "code",
   "execution_count": 103,
   "metadata": {},
   "outputs": [],
   "source": [
    "#Biblotecas\n",
    "import pandas as pd\n",
    "import pathlib as pl\n",
    "import win32com.client as win32\n",
    "import pythoncom"
   ]
  },
  {
   "cell_type": "code",
   "execution_count": 104,
   "metadata": {},
   "outputs": [],
   "source": [
    "#Importar Base de Dados\n",
    "emails = pd.read_excel(r'Bases de Dados\\Emails.xlsx')\n",
    "lojas = pd.read_csv(r'Bases de Dados\\Lojas.csv', encoding='latin1', sep=';')\n",
    "vendas = pd.read_excel(r'Bases de Dados\\Vendas.xlsx')"
   ]
  },
  {
   "cell_type": "code",
   "execution_count": 105,
   "metadata": {},
   "outputs": [],
   "source": [
    "#Incluir a loja na tabela de vendas\n",
    "vendas = vendas.merge(lojas, on='ID Loja')"
   ]
  },
  {
   "cell_type": "code",
   "execution_count": 106,
   "metadata": {},
   "outputs": [],
   "source": [
    "#Criar uma tabela para cada loja\n",
    "dicionario_lojas = {}\n",
    "for loja in lojas['Loja']:\n",
    "    dicionario_lojas[loja] = vendas.loc[vendas['Loja'] == loja, :]"
   ]
  },
  {
   "cell_type": "markdown",
   "metadata": {},
   "source": [
    "### Criar uma Tabela para cada Loja e Definir o dia do Indicador"
   ]
  },
  {
   "cell_type": "code",
   "execution_count": 107,
   "metadata": {},
   "outputs": [],
   "source": [
    "#Definir o dia indicador pegando a maior data da tabela de vendas, deste modo, em uma nova data mais recente, o dia é redefinido\n",
    "dia_indicador = vendas['Data'].max()"
   ]
  },
  {
   "cell_type": "markdown",
   "metadata": {},
   "source": [
    "### Salvar a planilha na pasta de backup"
   ]
  },
  {
   "cell_type": "code",
   "execution_count": 108,
   "metadata": {},
   "outputs": [],
   "source": [
    "#Criar pastas de Backup (e identificando se a pasta já existe)\n",
    "caminho_backup = pl.Path(r'Backup Arquivos Lojas')\n",
    "arquivos_backup = caminho_backup.iterdir()\n",
    "\n",
    "lista_backup = [arquivo.name for arquivo in arquivos_backup]\n",
    "\n",
    "for loja in dicionario_lojas:\n",
    "    #Se a pasta não existe, ele cria uma nova de acordo com o shopping\n",
    "    if loja not in lista_backup:\n",
    "        nova_pasta = caminho_backup / loja\n",
    "        nova_pasta.mkdir()\n",
    "\n",
    "    #salvando dentro das pastas \n",
    "    nome_arquivo = '{}_{}_{}.xlsx'.format(dia_indicador.month, dia_indicador.day, loja)\n",
    "    local_arquivo = caminho_backup / loja / nome_arquivo\n",
    "    dicionario_lojas[loja].to_excel(local_arquivo)"
   ]
  },
  {
   "cell_type": "markdown",
   "metadata": {},
   "source": [
    "### Automatizar a criação de tabelas e o envio para cada email"
   ]
  },
  {
   "cell_type": "code",
   "execution_count": 109,
   "metadata": {},
   "outputs": [],
   "source": [
    "#Definir metas\n",
    "meta_faturamento_dia = 1000\n",
    "meta_faturamento_ano = 1_650_000\n",
    "meta_produtos_dia = 4\n",
    "meta_produtos_ano = 120\n",
    "meta_ticket_dia = 500\n",
    "meta_ticket_ano = 500"
   ]
  },
  {
   "cell_type": "code",
   "execution_count": 110,
   "metadata": {
    "scrolled": true
   },
   "outputs": [
    {
     "name": "stdout",
     "output_type": "stream",
     "text": [
      "Email da Loja Iguatemi Esplanada enviado.\n",
      "Email da Loja Shopping Midway Mall enviado.\n",
      "Email da Loja Norte Shopping enviado.\n",
      "Email da Loja Shopping Iguatemi Fortaleza enviado.\n",
      "Email da Loja Shopping União de Osasco enviado.\n",
      "Email da Loja Shopping Center Interlagos enviado.\n",
      "Email da Loja Rio Mar Recife enviado.\n",
      "Email da Loja Salvador Shopping enviado.\n",
      "Email da Loja Rio Mar Shopping Fortaleza enviado.\n",
      "Email da Loja Shopping Center Leste Aricanduva enviado.\n",
      "Email da Loja Ribeirão Shopping enviado.\n",
      "Email da Loja Shopping Morumbi enviado.\n",
      "Email da Loja Parque Dom Pedro Shopping enviado.\n",
      "Email da Loja Bourbon Shopping SP enviado.\n",
      "Email da Loja Palladium Shopping Curitiba enviado.\n",
      "Email da Loja Passei das Águas Shopping enviado.\n",
      "Email da Loja Center Shopping Uberlândia enviado.\n",
      "Email da Loja Shopping Recife enviado.\n",
      "Email da Loja Shopping Vila Velha enviado.\n",
      "Email da Loja Shopping SP Market enviado.\n",
      "Email da Loja Shopping Eldorado enviado.\n",
      "Email da Loja Shopping Ibirapuera enviado.\n",
      "Email da Loja Novo Shopping Ribeirão Preto enviado.\n",
      "Email da Loja Iguatemi Campinas enviado.\n",
      "Email da Loja Shopping Barra enviado.\n"
     ]
    }
   ],
   "source": [
    "pythoncom.CoInitialize()\n",
    "for loja in dicionario_lojas:\n",
    "    vendas_loja = dicionario_lojas[loja] #Pegar apenas a loja atual\n",
    "    vendas_loja_dia = vendas_loja.loc[vendas_loja['Data'] == dia_indicador, :] #Para filtrar um unico dia \n",
    "\n",
    "    #faturamento\n",
    "    faturamento_ano = vendas_loja['Valor Final'].sum()\n",
    "    faturamento_dia = vendas_loja_dia['Valor Final'].sum()\n",
    "\n",
    "    #diversidade de produtos\n",
    "    qtnd_produtos_ano = len(vendas_loja['Produto'].unique())\n",
    "    qtnd_produtos_dia = len(vendas_loja_dia['Produto'].unique())\n",
    "\n",
    "    #ticket médio\n",
    "    valor_venda = vendas_loja.groupby('Código Venda').sum(numeric_only=True)\n",
    "    ticket_medio_ano = valor_venda['Valor Final'].mean()\n",
    "    valor_venda_dia = vendas_loja_dia.groupby('Código Venda').sum(numeric_only=True)\n",
    "    ticket_medio_dia = valor_venda_dia['Valor Final'].mean()\n",
    "\n",
    "\n",
    "    #enviar email\n",
    "    outlook = win32.Dispatch('outlook.application')\n",
    "\n",
    "    nome = emails.loc[emails['Loja'] == loja, 'Gerente'].values[0]\n",
    "    mail = outlook.CreateItem(0)\n",
    "    mail.To = emails.loc[emails['Loja'] == loja, 'E-mail'].values[0]\n",
    "    mail.Subject = f'OnePage dia {dia_indicador.day}/{dia_indicador.month} - Loja {loja}'\n",
    "\n",
    "    #Ajuste de cores para indicar as metas\n",
    "    if faturamento_dia >= meta_faturamento_dia:\n",
    "        cor_fat_dia = 'green'\n",
    "    else:\n",
    "        cor_fat_dia = 'red'\n",
    "\n",
    "    if faturamento_ano >= meta_faturamento_ano:\n",
    "        cor_fat_ano = 'green'\n",
    "    else:\n",
    "        cor_fat_ano = 'red'\n",
    "\n",
    "    if qtnd_produtos_dia >= meta_produtos_dia:\n",
    "        cor_qtde_dia = 'green'\n",
    "    else:\n",
    "        cor_qtde_dia = 'red'\n",
    "\n",
    "    if qtnd_produtos_ano >= meta_produtos_ano:\n",
    "        cor_qtde_ano = 'green'\n",
    "    else:\n",
    "        cor_qtde_ano = 'red'\n",
    "\n",
    "    if ticket_medio_dia >= meta_ticket_dia:\n",
    "        cor_ticket_dia = 'green'\n",
    "    else:\n",
    "        cor_ticket_dia = 'red'\n",
    "\n",
    "    if ticket_medio_ano >= meta_ticket_ano:\n",
    "        cor_ticket_ano = 'green'\n",
    "    else:\n",
    "        cor_ticket_ano = 'red'\n",
    "\n",
    "\n",
    "    mail.HTMLBody = f'''\n",
    "    <p>Bom dia, {nome}</p>\n",
    "\n",
    "    <p>O resultado de ontem <strong>({dia_indicador.day}/{dia_indicador.month})</strong> da <strong>Loja {loja}</strong> foi:</p>\n",
    "\n",
    "    <table>\n",
    "    <tr>\n",
    "        <th>Indicador</th>\n",
    "        <th>Valor Dia</th>\n",
    "        <th>Meta Dia</th>\n",
    "        <th>Cenário Dia</th>\n",
    "    </tr>\n",
    "    <tr>\n",
    "        <td>Faturamento</td>\n",
    "        <td style=\"text-align: center\">R${faturamento_dia:.2f}</td>\n",
    "        <td style=\"text-align: center\">R${meta_faturamento_dia:.2f}</td>\n",
    "        <td style=\"text-align: center\"><font color=\"{cor_fat_dia}\">◙</th>\n",
    "    </tr>\n",
    "    <tr>\n",
    "        <td>Diversidade de Produtos</td>\n",
    "        <td style=\"text-align: center\">{qtnd_produtos_dia}</td>\n",
    "        <td style=\"text-align: center\">{meta_produtos_dia}</td>\n",
    "        <td style=\"text-align: center\"><font color=\"{cor_qtde_dia}\">◙</th>\n",
    "    </tr>\n",
    "    <tr>\n",
    "        <td>Titcke Médio</td>\n",
    "        <td style=\"text-align: center\">R${ticket_medio_dia:.2f}</td>\n",
    "        <td style=\"text-align: center\">R${meta_ticket_dia:.2f}</td>\n",
    "        <td style=\"text-align: center\"><font color=\"{cor_ticket_dia}\">◙</th>\n",
    "    </tr>\n",
    "    </table>\n",
    "    <br>\n",
    "    <table>\n",
    "    <tr>\n",
    "        <th>Indicador</th>\n",
    "        <th>Valor Ano</th>\n",
    "        <th>Meta Ano</th>\n",
    "        <th>Cenário Ano</th>\n",
    "    </tr>\n",
    "    <tr>\n",
    "        <td>Faturamento</td>\n",
    "        <td style=\"text-align: center\">R${faturamento_ano:.2f}</td>\n",
    "        <td style=\"text-align: center\">R${meta_faturamento_ano:.2f}</td>\n",
    "        <td style=\"text-align: center\"><font color=\"{cor_fat_ano}\">◙</th>\n",
    "    </tr>\n",
    "    <tr>\n",
    "        <td>Diversidade de Produtos</td>\n",
    "        <td style=\"text-align: center\">{qtnd_produtos_ano}</td>\n",
    "        <td style=\"text-align: center\">{meta_produtos_ano}</td>\n",
    "        <td style=\"text-align: center\"><font color=\"{cor_qtde_ano}\">◙</th>\n",
    "    </tr>\n",
    "    <tr>\n",
    "        <td>Titcke Médio</td>\n",
    "        <td style=\"text-align: center\">R${ticket_medio_ano:.2f}</td>\n",
    "        <td style=\"text-align: center\">R${meta_ticket_ano:.2f}</td>\n",
    "        <td style=\"text-align: center\"><font color=\"{cor_ticket_ano}\">◙</th>\n",
    "    </tr>\n",
    "    </table>\n",
    "\n",
    "    <p>Segue em anexo a planilha com todos os dados para mais detalhes.</p>\n",
    "\n",
    "    <p>Qualquer dúvida estou à disposição.</p>\n",
    "    <p>Att., Pablo Henrique</p>\n",
    "\n",
    "    '''\n",
    "\n",
    "    #anexos\n",
    "    attachmet = pl.Path.cwd() / caminho_backup / loja / f'{dia_indicador.month}_{dia_indicador.day}_{loja}.xlsx'\n",
    "    mail.Attachments.Add(str(attachmet))\n",
    "\n",
    "    mail.Send()\n",
    "    print(f'Email da Loja {loja} enviado.')\n",
    "pythoncom.CoUninitialize()\n"
   ]
  },
  {
   "cell_type": "markdown",
   "metadata": {},
   "source": [
    "### Criar ranking para diretoria"
   ]
  },
  {
   "cell_type": "code",
   "execution_count": 114,
   "metadata": {},
   "outputs": [],
   "source": [
    "faturamento_lojas = vendas.groupby('Loja')[['Loja', 'Valor Final']].sum(numeric_only=True)\n",
    "faturamento_lojas_ano = faturamento_lojas.sort_values(by='Valor Final', ascending=False)\n",
    "\n",
    "nome_arquivo = '{}_{}_Ranking Anual.xlsx'.format(dia_indicador.month, dia_indicador.day, loja)\n",
    "faturamento_lojas_ano.to_excel(r'Backup Arquivos Lojas\\{}'.format(nome_arquivo))\n",
    "\n",
    "vendas_dia = vendas.loc[vendas['Data'] == dia_indicador, :]\n",
    "faturamento_lojas_dia = vendas_dia.groupby('Loja')[['Loja', 'Valor Final']].sum(numeric_only=True)\n",
    "faturamento_lojas_dia = faturamento_lojas_dia.sort_values(by='Valor Final', ascending=False)\n",
    "\n",
    "nome_arquivo = '{}_{}_Ranking Dia.xlsx'.format(dia_indicador.month, dia_indicador.day, loja)\n",
    "faturamento_lojas_dia.to_excel(r'Backup Arquivos Lojas\\{}'.format(nome_arquivo))"
   ]
  },
  {
   "cell_type": "markdown",
   "metadata": {},
   "source": [
    "### Enviar e-mail para diretoria"
   ]
  },
  {
   "cell_type": "code",
   "execution_count": 115,
   "metadata": {},
   "outputs": [
    {
     "name": "stdout",
     "output_type": "stream",
     "text": [
      "E-mail da Diretoria enviado\n"
     ]
    }
   ],
   "source": [
    "#enviar o email\n",
    "outlook = win32.Dispatch('outlook.application')\n",
    "\n",
    "mail = outlook.CreateItem(0)\n",
    "mail.To = emails.loc[emails['Loja']=='Diretoria', 'E-mail'].values[0]\n",
    "mail.Subject = f'Ranking Dia {dia_indicador.day}/{dia_indicador.month}'\n",
    "mail.Body = f'''\n",
    "Prezados, bom dia\n",
    "\n",
    "Melhor loja do Dia em Faturamento: Loja {faturamento_lojas_dia.index[0]} com Faturamento R${faturamento_lojas_dia.iloc[0, 0]:.2f}\n",
    "Pior loja do Dia em Faturamento: Loja {faturamento_lojas_dia.index[-1]} com Faturamento R${faturamento_lojas_dia.iloc[-1, 0]:.2f}\n",
    "\n",
    "Melhor loja do Ano em Faturamento: Loja {faturamento_lojas_ano.index[0]} com Faturamento R${faturamento_lojas_ano.iloc[0, 0]:.2f}\n",
    "Pior loja do Ano em Faturamento: Loja {faturamento_lojas_ano.index[-1]} com Faturamento R${faturamento_lojas_ano.iloc[-1, 0]:.2f}\n",
    "\n",
    "Segue em anexo os rankings do ano e do dia de todas as lojas.\n",
    "\n",
    "Qualquer dúvida estou à disposição.\n",
    "\n",
    "Att.,\n",
    "Lira\n",
    "'''\n",
    "\n",
    "# Anexos:\n",
    "attachment = pl.Path.cwd() / caminho_backup / f'{dia_indicador.month}_{dia_indicador.day}_Ranking Anual.xlsx'\n",
    "mail.Attachments.Add(str(attachment))\n",
    "attachment  = pl.Path.cwd() / caminho_backup / f'{dia_indicador.month}_{dia_indicador.day}_Ranking Dia.xlsx'\n",
    "mail.Attachments.Add(str(attachment))\n",
    "\n",
    "\n",
    "mail.Send()\n",
    "print('E-mail da Diretoria enviado')"
   ]
  }
 ],
 "metadata": {
  "kernelspec": {
   "display_name": "Python 3",
   "language": "python",
   "name": "python3"
  },
  "language_info": {
   "codemirror_mode": {
    "name": "ipython",
    "version": 3
   },
   "file_extension": ".py",
   "mimetype": "text/x-python",
   "name": "python",
   "nbconvert_exporter": "python",
   "pygments_lexer": "ipython3",
   "version": "3.12.4"
  }
 },
 "nbformat": 4,
 "nbformat_minor": 4
}
